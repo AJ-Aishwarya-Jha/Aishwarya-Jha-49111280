{
 "cells": [
  {
   "cell_type": "markdown",
   "id": "ac221106-9739-41c0-b2b0-8456f683b0ee",
   "metadata": {},
   "source": [
    "TASK 1\n",
    "\n",
    "I created a network of directors based on the companies they are connected to and used it to measure influence in three ways. First, I used degree centrality to see which directors are connected to the most others, showing who is most active across boards. Then I applied betweenness centrality to find directors who act as bridges between groups, meaning they could control or guide information flow. Finally, I added PageRank as a new centrality measure because it highlights directors who are not just well-connected but are linked to other important people too. This gives a better idea of their indirect power in the network. These three measures together give a clearer picture of who holds the most influence, visibility, and control among all directors."
   ]
  },
  {
   "cell_type": "code",
   "execution_count": 7,
   "id": "4e1c7e8e",
   "metadata": {},
   "outputs": [
    {
     "name": "stdout",
     "output_type": "stream",
     "text": [
      "Top 5 Degree Centrality:\n",
      "MARK A. BLINN: 0.0098\n",
      "ALBERT R. DOWDEN: 0.0074\n",
      "MICHAEL F. JOHNSTON: 0.0072\n",
      "MATTHEW J. ESPE: 0.0069\n",
      "RONALD L. OLSON: 0.0068\n",
      "\n",
      "Top 5 Betweenness Centrality:\n",
      "MICHAEL F. JOHNSTON: 0.0799\n",
      "MATTHEW J. ESPE: 0.0638\n",
      "JOHN J. ROBERTS: 0.0596\n",
      "MARK A. BLINN: 0.0591\n",
      "EDWARD J. KELLY, III: 0.0536\n",
      "\n",
      "Top 5 PageRank:\n",
      "MARK A. BLINN: 0.0003\n",
      "ROBERT T. BRADY: 0.0003\n",
      "CHRISTOPHER L. MAPES: 0.0003\n",
      "J. MICHAEL LOSH: 0.0003\n",
      "MICHAEL F. HILTON: 0.0002\n"
     ]
    }
   ],
   "source": [
    "\n",
    "import pandas as pd\n",
    "import networkx as nx\n",
    "\n",
    "# Load dataset\n",
    "df = pd.read_csv('company_directorships.csv')  \n",
    "\n",
    "# Build bipartite graph\n",
    "B = nx.Graph()\n",
    "B.add_nodes_from(df['company_name'], bipartite='companies')\n",
    "B.add_nodes_from(df['director_name'], bipartite='directors')\n",
    "B.add_edges_from(zip(df['director_name'], df['company_name']))\n",
    "\n",
    "# Project to director-only graph\n",
    "directors = {n for n, d in B.nodes(data=True) if d['bipartite'] == 'directors'}\n",
    "G = nx.bipartite.weighted_projected_graph(B, directors)\n",
    "\n",
    "# Degree Centrality\n",
    "degree_centrality = nx.degree_centrality(G)\n",
    "top_degree = sorted(degree_centrality.items(), key=lambda x: x[1], reverse=True)[:5]\n",
    "print(\"Top 5 Degree Centrality:\")\n",
    "for name, value in top_degree:\n",
    "    print(f\"{name}: {value:.4f}\")\n",
    "\n",
    "# Betweenness Centrality (on top 200 nodes)\n",
    "top_nodes = sorted(G.degree, key=lambda x: x[1], reverse=True)[:200]\n",
    "subgraph = G.subgraph([n for n, _ in top_nodes])\n",
    "betweenness = nx.betweenness_centrality(subgraph)\n",
    "top_betweenness = sorted(betweenness.items(), key=lambda x: x[1], reverse=True)[:5]\n",
    "print(\"\\nTop 5 Betweenness Centrality:\")\n",
    "for name, value in top_betweenness:\n",
    "    print(f\"{name}: {value:.4f}\")\n",
    "\n",
    "# PageRank (new centrality measure)\n",
    "pagerank = nx.pagerank(G)\n",
    "top_pagerank = sorted(pagerank.items(), key=lambda x: x[1], reverse=True)[:5]\n",
    "print(\"\\nTop 5 PageRank:\")\n",
    "for name, value in top_pagerank:\n",
    "    print(f\"{name}: {value:.4f}\")\n"
   ]
  },
  {
   "cell_type": "markdown",
   "id": "85ef6f33-18cb-47d4-8d22-467bb91c33be",
   "metadata": {},
   "source": [
    "2. TASK 2\n",
    "Code Repair (8 Marks)\n",
    "In reviewing the code, I found several areas that made it hard to understand or could cause errors. I picked four key fixes that were most important for improving clarity, avoiding mistakes, and making future steps easier.\n",
    "\n",
    "Fix 1: Inconsistent Column Name (name to NAME)\n",
    "The original code used raw_directors['name'], but this column was later converted to uppercase. I renamed the column properly at the start ('name' to 'NAME') so it stays consistent throughout the code. This reduces confusion and avoids errors when grouping or merging later.\n",
    "\n",
    "Fix 2: Software Background Cleanup\n",
    "The original data had software_background as the letter 't' to mean true. I converted it to a proper boolean (True/False) so it can be used easily in filtering or modeling. This makes the data more usable and less error-prone.\n",
    "\n",
    "Fix 3: Add ‘role’ to Demographics Summary\n",
    "The summary DataFrame originally left out the role column, which is important when merging later with centrality or influence scores. I added the most common role per person to the summary so that information is kept and can be used in later steps.\n",
    "\n",
    "Fix 4: Reset Index for Safe Merging\n",
    "When grouping data, the resulting index becomes the grouped column (NAME). This can cause merge errors later if not handled properly. I reset the index of the final DataFrame so it's easier to merge with other outputs like centrality scores or graphs.\n",
    "\n",
    "Each fix was chosen to improve either the clarity, correctness, or future usability of the code — especially for someone working on it later. Together, these changes make the workflow easier to follow and more robust for analysis."
   ]
  },
  {
   "cell_type": "code",
   "execution_count": 3,
   "id": "53879efd-edd0-4897-a2ad-36e1818c4c3a",
   "metadata": {},
   "outputs": [
    {
     "name": "stdout",
     "output_type": "stream",
     "text": [
      "✅ Graph created with nodes: 12486 and edges: 13347\n"
     ]
    }
   ],
   "source": [
    "import pandas as pd\n",
    "import math\n",
    "import networkx as nx\n",
    "\n",
    "# -----------------------------\n",
    "# FIX 1: Rename 'name' to 'NAME' consistently\n",
    "# -----------------------------\n",
    "try:\n",
    "    df = pd.read_csv('company_directorships.csv')\n",
    "except FileNotFoundError:\n",
    "    print(\"Error: 'company_directorships.csv' not found.\")\n",
    "\n",
    "try:\n",
    "    raw_directors = pd.read_csv('director-details.csv')\n",
    "except FileNotFoundError:\n",
    "    print(\"Error: 'director-details.csv' not found.\")\n",
    "\n",
    "# Rename column properly and standardize values\n",
    "raw_directors.rename(columns={'name': 'NAME'}, inplace=True)\n",
    "raw_directors['NAME'] = raw_directors['NAME'].str.upper()\n",
    "\n",
    "# -----------------------------\n",
    "# Clean 'software_background' to boolean\n",
    "# -----------------------------\n",
    "df['software_background'] = df['software_background'] == 't'\n",
    "\n",
    "# -----------------------------\n",
    "# Group by name and summarize demographics\n",
    "# -----------------------------\n",
    "grouped = raw_directors.groupby('NAME')\n",
    "\n",
    "def most_common(series):\n",
    "    mode_vals = series.mode()\n",
    "    return mode_vals[0] if not mode_vals.empty else None\n",
    "\n",
    "# FIX 3: Include 'role' to avoid future merge issues\n",
    "compensation_and_demographics = pd.DataFrame({\n",
    "    'age': grouped['age'].max(),\n",
    "    'compensation': grouped['compensation'].sum(),\n",
    "    'gender': grouped['gender'].agg(most_common),\n",
    "    'role': grouped['role'].agg(most_common)\n",
    "})\n",
    "\n",
    "# FIX 4: Reset index so merges with centrality outputs won't fail\n",
    "compensation_and_demographics.reset_index(inplace=True)\n",
    "\n",
    "# -----------------------------\n",
    "# Compute log of compensation\n",
    "# -----------------------------\n",
    "compensation_and_demographics['log_compensation'] = (\n",
    "    1 + compensation_and_demographics['compensation']\n",
    ").map(math.log10)\n",
    "\n",
    "# Build bipartite graph between directors and companies\n",
    "graph = nx.Graph()\n",
    "for company, director in zip(df['company_name'], df['director_name']):\n",
    "    graph.add_edge(company, director)\n",
    "\n",
    "print(\"✅ Graph created with nodes:\", graph.number_of_nodes(), \"and edges:\", graph.number_of_edges())\n"
   ]
  },
  {
   "cell_type": "markdown",
   "id": "5f5c5931-a0d5-4ebd-8e2b-36211ba535fb",
   "metadata": {},
   "source": [
    "TASK 3\n",
    "\n",
    "One interesting feature in the dataset that wasn’t previously explored is the tenure of directors — the length of time they have served on company boards. By using the start and end dates of each directorship, I calculated how long each director held their role. This gives insights into experience and stability within companies, which could relate to influence or leadership style. For example, some directors had tenures longer than 10 years, suggesting a strong or long-term impact in their roles. Although this information was already in the dataset, it hadn’t been analyzed before and adds depth to understanding director involvement."
   ]
  },
  {
   "cell_type": "code",
   "execution_count": 13,
   "id": "cd905cb3-d455-4b55-8a7b-4754913d3fc2",
   "metadata": {},
   "outputs": [
    {
     "name": "stdout",
     "output_type": "stream",
     "text": [
      "📊 Average tenure (years): 4.854090265896347\n",
      "📈 Directors with tenure > 10 years: 1858\n"
     ]
    }
   ],
   "source": [
    "import pandas as pd\n",
    "\n",
    "# Load company directorship data\n",
    "df = pd.read_excel(\"company_directorships.xlsx\")\n",
    "\n",
    "# Convert start and end dates to datetime\n",
    "df['start_date'] = pd.to_datetime(df['start_date'], errors='coerce')\n",
    "df['end_date'] = pd.to_datetime(df['end_date'], errors='coerce')\n",
    "\n",
    "# Calculate tenure in years\n",
    "df['tenure_years'] = (df['end_date'] - df['start_date']).dt.days / 365.25\n",
    "\n",
    "# Drop rows with missing or invalid dates\n",
    "valid_tenures = df.dropna(subset=['tenure_years'])\n",
    "\n",
    "# Summary statistics\n",
    "print(\"📊 Average tenure (years):\", valid_tenures['tenure_years'].mean())\n",
    "print(\"📈 Directors with tenure > 10 years:\", (valid_tenures['tenure_years'] > 10).sum())\n",
    "\n"
   ]
  },
  {
   "cell_type": "markdown",
   "id": "f73163fc-eddd-4e77-9fa1-441fe95e9fe3",
   "metadata": {},
   "source": [
    "TASK 4\n",
    "\n",
    "I used a financial dataset showing company sales across different countries as a complementary source. After cleaning the data by removing symbols and fixing missing values, I calculated the total sales for each country. This dataset adds a business performance layer to the project, which was previously focused only on directors and their networks. By combining financial outcomes with board membership data, we can explore if certain director patterns are linked to stronger company sales. This connection helps make the analysis more meaningful by linking governance structures to actual financial results."
   ]
  },
  {
   "cell_type": "code",
   "execution_count": 40,
   "id": "0cbd14c2-97b9-4291-86d8-8f57247be37e",
   "metadata": {},
   "outputs": [
    {
     "name": "stdout",
     "output_type": "stream",
     "text": [
      "                    Country  Total_Sales\n",
      "0                    Canada  24887654.89\n",
      "1                    France  24354172.29\n",
      "2                   Germany  23505340.82\n",
      "3                    Mexico  20949352.11\n",
      "4  United States of America  25029830.18\n"
     ]
    }
   ],
   "source": [
    "import pandas as pd\n",
    "\n",
    "# Load dataset\n",
    "df = pd.read_csv(\"Financials.csv\")\n",
    "\n",
    "# Clean column names\n",
    "df.columns = df.columns.str.strip()\n",
    "\n",
    "# Clean 'Sales' column (remove dollar signs and commas)\n",
    "df['Sales'] = df['Sales'].str.replace(r'[\\$,]', '', regex=True).astype(float)\n",
    "\n",
    "# Clean 'Country' column\n",
    "df['Country'] = df['Country'].str.strip()\n",
    "\n",
    "# Drop rows with missing values\n",
    "df = df.dropna(subset=['Country', 'Sales'])\n",
    "\n",
    "# Group total sales by country\n",
    "sales_by_country = df.groupby('Country')['Sales'].sum().reset_index()\n",
    "sales_by_country.rename(columns={'Sales': 'Total_Sales'}, inplace=True)\n",
    "\n",
    "# Show result\n",
    "print(sales_by_country.head())\n"
   ]
  },
  {
   "cell_type": "markdown",
   "id": "f491c535-15d6-4254-83bd-15c07ec586eb",
   "metadata": {},
   "source": [
    "TASK 5-B\n",
    "\n",
    "This graph compares the average sales made by different business segments. It clearly shows that the Small Business segment brings in the most sales on average, much more than any other group. Enterprise and Government follow with moderate sales, while Midmarket and Channel Partners have the lowest. This pattern helps highlight which customer types are generating the most income, and it could be useful when deciding which segments to prioritise or invest more in."
   ]
  },
  {
   "cell_type": "code",
   "execution_count": 46,
   "id": "b7fe5a5d-173f-46ea-8634-78291798ab36",
   "metadata": {},
   "outputs": [
    {
     "name": "stderr",
     "output_type": "stream",
     "text": [
      "<>:10: SyntaxWarning: invalid escape sequence '\\$'\n",
      "<>:10: SyntaxWarning: invalid escape sequence '\\$'\n",
      "C:\\Users\\raoga\\AppData\\Local\\Temp\\ipykernel_18860\\2413071887.py:10: SyntaxWarning: invalid escape sequence '\\$'\n",
      "  financials_df['Sales'] = financials_df['Sales'].replace('[\\$,]', '', regex=True)\n"
     ]
    },
    {
     "data": {
      "image/png": "[encoded data removed]",
      "text/plain": [
       "<Figure size 800x500 with 1 Axes>"
      ]
     },
     "metadata": {},
     "output_type": "display_data"
    }
   ],
   "source": [
    "import pandas as pd\n",
    "import matplotlib.pyplot as plt\n",
    "\n",
    "# Load financial data\n",
    "financials_df = pd.read_csv(\"Financials.csv\")\n",
    "financials_df.columns = financials_df.columns.str.strip()\n",
    "\n",
    "# Clean 'Segment' and 'Sales'\n",
    "financials_df['Segment'] = financials_df['Segment'].str.strip()\n",
    "financials_df['Sales'] = financials_df['Sales'].replace('[\\$,]', '', regex=True)\n",
    "financials_df['Sales'] = pd.to_numeric(financials_df['Sales'], errors='coerce')\n",
    "\n",
    "# Aggregate average sales per segment\n",
    "segment_sales = financials_df.groupby('Segment')['Sales'].mean().reset_index()\n",
    "segment_sales = segment_sales.sort_values(by='Sales', ascending=False)\n",
    "\n",
    "# Plot\n",
    "plt.figure(figsize=(8, 5))\n",
    "plt.barh(segment_sales['Segment'], segment_sales['Sales'])\n",
    "plt.xlabel('Average Sales ($)')\n",
    "plt.title('Average Sales by Business Segment')\n",
    "plt.gca().invert_yaxis()\n",
    "plt.tight_layout()\n",
    "plt.show()\n"
   ]
  },
  {
   "cell_type": "markdown",
   "id": "0f60a709-f6f9-49e0-b7b0-3f5d8bb13019",
   "metadata": {},
   "source": [
    "TASK 5-C\n",
    "\n",
    "This project uses data about directors and companies, and while the information is available to the public, joining it all together can create new risks. When we connect director networks with company performance, it may seem like we are ranking people or saying who is better or worse. But these numbers don’t always show the full picture. A director with fewer links in the network might still be doing very important work. Also, if the data misses out on certain groups, like smaller companies or women directors, it can give an unfair or incomplete result. There’s also the issue of privacy — even if someone’s name is in public records, they may not expect to be analysed this way. That’s why it’s important to be careful with how we explain the results and make sure not to harm anyone’s reputation. The project should aim to understand patterns, not judge individuals. Being fair, clear, and respectful in how we use and share this information is a key ethical responsibility.\n"
   ]
  }
 ],
 "metadata": {
  "kernelspec": {
   "display_name": "Python [conda env:base] *",
   "language": "python",
   "name": "conda-base-py"
  },
  "language_info": {
   "codemirror_mode": {
    "name": "ipython",
    "version": 3
   },
   "file_extension": ".py",
   "mimetype": "text/x-python",
   "name": "python",
   "nbconvert_exporter": "python",
   "pygments_lexer": "ipython3",
   "version": "3.12.7"
  }
 },
 "nbformat": 4,
 "nbformat_minor": 5
}
